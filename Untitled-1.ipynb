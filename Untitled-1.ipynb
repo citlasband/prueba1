{
 "cells": [
  {
   "cell_type": "code",
   "execution_count": null,
   "id": "3ec61858",
   "metadata": {},
   "outputs": [],
   "source": [
    "import pandas as pd\n",
    "import numpy as np\n",
    "import matplotlib as plt\n",
    "import seaborn as sns\n",
    "\n",
    "data= random.randn(80, 4)\n",
    "df = pd.DataFrame(data, columns=['A', 'B', 'C', 'D'])\n",
    "print(df)\n",
    "print(data)"
   ]
  }
 ],
 "metadata": {
  "language_info": {
   "name": "python"
  }
 },
 "nbformat": 4,
 "nbformat_minor": 5
}
